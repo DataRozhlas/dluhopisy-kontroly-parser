{
 "cells": [
  {
   "cell_type": "code",
   "execution_count": 1,
   "metadata": {
    "collapsed": true
   },
   "outputs": [],
   "source": [
    "import pandas as pd"
   ]
  },
  {
   "cell_type": "code",
   "execution_count": 2,
   "metadata": {},
   "outputs": [],
   "source": [
    "out = pd.DataFrame()\n",
    "for pg in range(1, 42):\n",
    "    tmp = pd.read_excel('./Korunove_dluhopisy_20171231_anonym_20180129.xlsx', sheetname='page ' + str(pg), header=None)\n",
    "    tmp['rok'] = tmp[0][0]\n",
    "    tmp = tmp[4:].to_dict(orient='index')\n",
    "    out = out.append(pd.DataFrame.from_dict(tmp, orient='index') ,ignore_index=True)"
   ]
  },
  {
   "cell_type": "code",
   "execution_count": 3,
   "metadata": {
    "collapsed": true
   },
   "outputs": [],
   "source": [
    "out.columns = [\n",
    "'FÚ, který případ řeší',\n",
    "'Místně příslušný FÚ',\n",
    "'Místně příslušné ÚzP',\n",
    "'DIČ',\n",
    "'Název DS',\n",
    "'Ready made',\n",
    "'Analytické prověření',\n",
    "'Vybrání DS k prověření na dani z příjmů právnických osob',\n",
    "'Emise dluhopisů',\n",
    "'Výše nákladových úroků dle ÚZ',\n",
    "'Úroková sazba v %',\n",
    "'Suma emise',\n",
    "'Počet kupujících',\n",
    "'Rok splatnosti',\n",
    "'Místní šetření',\n",
    "'Vydání výzvy k DoDAP',\n",
    "'Podání DoDAP',\n",
    "'Změna základu daně celkem DoDAP',\n",
    "'Změna daňové ztráty celkem DoDAP',\n",
    "'Změna daně celkem DoDAP',\n",
    "'Zahájení POP',\n",
    "'Ukončení POP',\n",
    "'Zahájení DK',\n",
    "'Ukončení DK',\n",
    "'Kontrolní zjištění z dluhopisů',\n",
    "'Titul kontrolního zjištění',\n",
    "'Změna základu daně celkem',\n",
    "'Změna daňové ztráty celkem',\n",
    "'Změna daně celkem',\n",
    "'Kontrola následujících zdaňovacích období',\n",
    "'Další prověřované zdaňovací období',\n",
    "'Odvolání',\n",
    "'Výsledek odvolacího řízení',\n",
    "'Zneužití práva',\n",
    "'Podání trestního oznámení',\n",
    "'\"Mimořádný opr. prostředek/dozorčí prostředek\"',\n",
    "'Soudní řízení',\n",
    "'Související úkony/řízení',\n",
    "'Poznámky',\n",
    "'rok'\n",
    "]"
   ]
  },
  {
   "cell_type": "code",
   "execution_count": 4,
   "metadata": {
    "collapsed": true
   },
   "outputs": [],
   "source": [
    "def to_int(val):\n",
    "    try:\n",
    "        return int(val.replace(' ', ''))\n",
    "    except:\n",
    "        return val"
   ]
  },
  {
   "cell_type": "code",
   "execution_count": 5,
   "metadata": {
    "collapsed": true
   },
   "outputs": [],
   "source": [
    "out['Změna daně celkem DoDAP'] = out['Změna daně celkem DoDAP'].apply(lambda x: to_int(x))"
   ]
  },
  {
   "cell_type": "code",
   "execution_count": 7,
   "metadata": {},
   "outputs": [
    {
     "data": {
      "text/plain": [
       "rok   Podání trestního oznámení\n",
       "2013  ANO                          25\n",
       "2014  ANO                          25\n",
       "2015  ANO                          25\n",
       "2016  ANO                          24\n",
       "Name: Podání trestního oznámení, dtype: int64"
      ]
     },
     "execution_count": 7,
     "metadata": {},
     "output_type": "execute_result"
    }
   ],
   "source": [
    "out.groupby('rok')['Podání trestního oznámení'].value_counts()"
   ]
  }
 ],
 "metadata": {
  "kernelspec": {
   "display_name": "Python 3",
   "language": "python",
   "name": "python3"
  },
  "language_info": {
   "codemirror_mode": {
    "name": "ipython",
    "version": 3
   },
   "file_extension": ".py",
   "mimetype": "text/x-python",
   "name": "python",
   "nbconvert_exporter": "python",
   "pygments_lexer": "ipython3",
   "version": "3.6.3"
  }
 },
 "nbformat": 4,
 "nbformat_minor": 2
}
